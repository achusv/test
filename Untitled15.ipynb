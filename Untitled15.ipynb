{
 "cells": [
  {
   "cell_type": "code",
   "execution_count": 1,
   "id": "d804c1ac",
   "metadata": {},
   "outputs": [],
   "source": [
    "# Importing libraries\n",
    "import pandas as pd\n",
    "import numpy as np\n",
    "import matplotlib.pyplot as plt\n",
    "import seaborn as sns"
   ]
  },
  {
   "cell_type": "code",
   "execution_count": 2,
   "id": "8a534e32",
   "metadata": {},
   "outputs": [],
   "source": [
    "# Importing dataset\n",
    "df = pd.read_excel(\"iris (3).xls\")"
   ]
  },
  {
   "cell_type": "code",
   "execution_count": 3,
   "id": "45320306",
   "metadata": {},
   "outputs": [
    {
     "data": {
      "text/html": [
       "<div>\n",
       "<style scoped>\n",
       "    .dataframe tbody tr th:only-of-type {\n",
       "        vertical-align: middle;\n",
       "    }\n",
       "\n",
       "    .dataframe tbody tr th {\n",
       "        vertical-align: top;\n",
       "    }\n",
       "\n",
       "    .dataframe thead th {\n",
       "        text-align: right;\n",
       "    }\n",
       "</style>\n",
       "<table border=\"1\" class=\"dataframe\">\n",
       "  <thead>\n",
       "    <tr style=\"text-align: right;\">\n",
       "      <th></th>\n",
       "      <th>SL</th>\n",
       "      <th>SW</th>\n",
       "      <th>PL</th>\n",
       "      <th>PW</th>\n",
       "      <th>Classification</th>\n",
       "    </tr>\n",
       "  </thead>\n",
       "  <tbody>\n",
       "    <tr>\n",
       "      <th>0</th>\n",
       "      <td>5.1</td>\n",
       "      <td>3.5</td>\n",
       "      <td>1.4</td>\n",
       "      <td>0.2</td>\n",
       "      <td>Iris-setosa</td>\n",
       "    </tr>\n",
       "    <tr>\n",
       "      <th>1</th>\n",
       "      <td>4.9</td>\n",
       "      <td>3.0</td>\n",
       "      <td>1.4</td>\n",
       "      <td>0.2</td>\n",
       "      <td>Iris-setosa</td>\n",
       "    </tr>\n",
       "    <tr>\n",
       "      <th>2</th>\n",
       "      <td>NaN</td>\n",
       "      <td>3.2</td>\n",
       "      <td>1.3</td>\n",
       "      <td>0.2</td>\n",
       "      <td>Iris-setosa</td>\n",
       "    </tr>\n",
       "    <tr>\n",
       "      <th>3</th>\n",
       "      <td>4.6</td>\n",
       "      <td>3.1</td>\n",
       "      <td>1.5</td>\n",
       "      <td>0.2</td>\n",
       "      <td>Iris-setosa</td>\n",
       "    </tr>\n",
       "    <tr>\n",
       "      <th>4</th>\n",
       "      <td>5.0</td>\n",
       "      <td>3.6</td>\n",
       "      <td>1.4</td>\n",
       "      <td>0.2</td>\n",
       "      <td>Iris-setosa</td>\n",
       "    </tr>\n",
       "  </tbody>\n",
       "</table>\n",
       "</div>"
      ],
      "text/plain": [
       "    SL   SW   PL   PW Classification\n",
       "0  5.1  3.5  1.4  0.2    Iris-setosa\n",
       "1  4.9  3.0  1.4  0.2    Iris-setosa\n",
       "2  NaN  3.2  1.3  0.2    Iris-setosa\n",
       "3  4.6  3.1  1.5  0.2    Iris-setosa\n",
       "4  5.0  3.6  1.4  0.2    Iris-setosa"
      ]
     },
     "execution_count": 3,
     "metadata": {},
     "output_type": "execute_result"
    }
   ],
   "source": [
    "df.head()"
   ]
  },
  {
   "cell_type": "markdown",
   "id": "b6ebe293",
   "metadata": {},
   "source": [
    "###  Check the basic details of the dataset"
   ]
  },
  {
   "cell_type": "code",
   "execution_count": 4,
   "id": "c46f0169",
   "metadata": {},
   "outputs": [
    {
     "data": {
      "text/plain": [
       "SL                float64\n",
       "SW                float64\n",
       "PL                float64\n",
       "PW                float64\n",
       "Classification     object\n",
       "dtype: object"
      ]
     },
     "execution_count": 4,
     "metadata": {},
     "output_type": "execute_result"
    }
   ],
   "source": [
    "df.dtypes"
   ]
  },
  {
   "cell_type": "code",
   "execution_count": 5,
   "id": "c8efde51",
   "metadata": {},
   "outputs": [
    {
     "data": {
      "text/html": [
       "<div>\n",
       "<style scoped>\n",
       "    .dataframe tbody tr th:only-of-type {\n",
       "        vertical-align: middle;\n",
       "    }\n",
       "\n",
       "    .dataframe tbody tr th {\n",
       "        vertical-align: top;\n",
       "    }\n",
       "\n",
       "    .dataframe thead th {\n",
       "        text-align: right;\n",
       "    }\n",
       "</style>\n",
       "<table border=\"1\" class=\"dataframe\">\n",
       "  <thead>\n",
       "    <tr style=\"text-align: right;\">\n",
       "      <th></th>\n",
       "      <th>SL</th>\n",
       "      <th>SW</th>\n",
       "      <th>PL</th>\n",
       "      <th>PW</th>\n",
       "    </tr>\n",
       "  </thead>\n",
       "  <tbody>\n",
       "    <tr>\n",
       "      <th>count</th>\n",
       "      <td>143.000000</td>\n",
       "      <td>144.000000</td>\n",
       "      <td>144.000000</td>\n",
       "      <td>150.000000</td>\n",
       "    </tr>\n",
       "    <tr>\n",
       "      <th>mean</th>\n",
       "      <td>5.855944</td>\n",
       "      <td>3.049306</td>\n",
       "      <td>3.756250</td>\n",
       "      <td>1.198667</td>\n",
       "    </tr>\n",
       "    <tr>\n",
       "      <th>std</th>\n",
       "      <td>0.828168</td>\n",
       "      <td>0.430644</td>\n",
       "      <td>1.761306</td>\n",
       "      <td>0.763161</td>\n",
       "    </tr>\n",
       "    <tr>\n",
       "      <th>min</th>\n",
       "      <td>4.300000</td>\n",
       "      <td>2.000000</td>\n",
       "      <td>1.000000</td>\n",
       "      <td>0.100000</td>\n",
       "    </tr>\n",
       "    <tr>\n",
       "      <th>25%</th>\n",
       "      <td>5.100000</td>\n",
       "      <td>2.800000</td>\n",
       "      <td>1.600000</td>\n",
       "      <td>0.300000</td>\n",
       "    </tr>\n",
       "    <tr>\n",
       "      <th>50%</th>\n",
       "      <td>5.800000</td>\n",
       "      <td>3.000000</td>\n",
       "      <td>4.350000</td>\n",
       "      <td>1.300000</td>\n",
       "    </tr>\n",
       "    <tr>\n",
       "      <th>75%</th>\n",
       "      <td>6.400000</td>\n",
       "      <td>3.300000</td>\n",
       "      <td>5.100000</td>\n",
       "      <td>1.800000</td>\n",
       "    </tr>\n",
       "    <tr>\n",
       "      <th>max</th>\n",
       "      <td>7.900000</td>\n",
       "      <td>4.400000</td>\n",
       "      <td>6.900000</td>\n",
       "      <td>2.500000</td>\n",
       "    </tr>\n",
       "  </tbody>\n",
       "</table>\n",
       "</div>"
      ],
      "text/plain": [
       "               SL          SW          PL          PW\n",
       "count  143.000000  144.000000  144.000000  150.000000\n",
       "mean     5.855944    3.049306    3.756250    1.198667\n",
       "std      0.828168    0.430644    1.761306    0.763161\n",
       "min      4.300000    2.000000    1.000000    0.100000\n",
       "25%      5.100000    2.800000    1.600000    0.300000\n",
       "50%      5.800000    3.000000    4.350000    1.300000\n",
       "75%      6.400000    3.300000    5.100000    1.800000\n",
       "max      7.900000    4.400000    6.900000    2.500000"
      ]
     },
     "execution_count": 5,
     "metadata": {},
     "output_type": "execute_result"
    }
   ],
   "source": [
    "df.describe()"
   ]
  },
  {
   "cell_type": "code",
   "execution_count": 6,
   "id": "25f6af35",
   "metadata": {},
   "outputs": [
    {
     "data": {
      "text/plain": [
       "(150, 5)"
      ]
     },
     "execution_count": 6,
     "metadata": {},
     "output_type": "execute_result"
    }
   ],
   "source": [
    "# Shape of the data\n",
    "df.shape"
   ]
  },
  {
   "cell_type": "code",
   "execution_count": 7,
   "id": "39c8238f",
   "metadata": {},
   "outputs": [
    {
     "data": {
      "text/plain": [
       "<bound method DataFrame.info of       SL   SW   PL   PW  Classification\n",
       "0    5.1  3.5  1.4  0.2     Iris-setosa\n",
       "1    4.9  3.0  1.4  0.2     Iris-setosa\n",
       "2    NaN  3.2  1.3  0.2     Iris-setosa\n",
       "3    4.6  3.1  1.5  0.2     Iris-setosa\n",
       "4    5.0  3.6  1.4  0.2     Iris-setosa\n",
       "..   ...  ...  ...  ...             ...\n",
       "145  6.7  3.0  5.2  2.3  Iris-virginica\n",
       "146  6.3  2.5  5.0  1.9  Iris-virginica\n",
       "147  6.5  3.0  NaN  2.0  Iris-virginica\n",
       "148  6.2  3.4  5.4  2.3  Iris-virginica\n",
       "149  5.9  3.0  5.1  1.8  Iris-virginica\n",
       "\n",
       "[150 rows x 5 columns]>"
      ]
     },
     "execution_count": 7,
     "metadata": {},
     "output_type": "execute_result"
    }
   ],
   "source": [
    "# Info of the data\n",
    "df.info"
   ]
  },
  {
   "cell_type": "code",
   "execution_count": 8,
   "id": "1b98221b",
   "metadata": {},
   "outputs": [
    {
     "data": {
      "text/plain": [
       "SL                7\n",
       "SW                6\n",
       "PL                6\n",
       "PW                0\n",
       "Classification    0\n",
       "dtype: int64"
      ]
     },
     "execution_count": 8,
     "metadata": {},
     "output_type": "execute_result"
    }
   ],
   "source": [
    "# Checking for null values\n",
    "df.isna().sum()"
   ]
  },
  {
   "cell_type": "markdown",
   "id": "69a8a200",
   "metadata": {},
   "source": [
    "###  Fill in all the missing values present in all the columns in the dataset"
   ]
  },
  {
   "cell_type": "code",
   "execution_count": 9,
   "id": "6e7e3d40",
   "metadata": {},
   "outputs": [
    {
     "data": {
      "text/plain": [
       "Index(['SL', 'SW', 'PL', 'PW', 'Classification'], dtype='object')"
      ]
     },
     "execution_count": 9,
     "metadata": {},
     "output_type": "execute_result"
    }
   ],
   "source": [
    "df.columns"
   ]
  },
  {
   "cell_type": "code",
   "execution_count": 10,
   "id": "c0396e37",
   "metadata": {},
   "outputs": [],
   "source": [
    "num_cols =df[['SL', 'SW','PL']]"
   ]
  },
  {
   "cell_type": "code",
   "execution_count": 11,
   "id": "e62045a3",
   "metadata": {},
   "outputs": [
    {
     "data": {
      "text/plain": [
       "SL    7\n",
       "SW    6\n",
       "PL    6\n",
       "dtype: int64"
      ]
     },
     "execution_count": 11,
     "metadata": {},
     "output_type": "execute_result"
    }
   ],
   "source": [
    "num_cols.isna().sum()"
   ]
  },
  {
   "cell_type": "code",
   "execution_count": 12,
   "id": "5bb4aa9c",
   "metadata": {},
   "outputs": [
    {
     "data": {
      "image/png": "[encoded data removed]",
      "text/plain": [
       "<Figure size 720x360 with 4 Axes>"
      ]
     },
     "metadata": {
      "needs_background": "light"
     },
     "output_type": "display_data"
    }
   ],
   "source": [
    "freqgraph = df.select_dtypes(include=['float'])\n",
    "freqgraph.hist(figsize=(10,5))\n",
    "plt.show()"
   ]
  },
  {
   "cell_type": "code",
   "execution_count": 13,
   "id": "a02c3776",
   "metadata": {},
   "outputs": [],
   "source": [
    "df['SL'] = df['SL'].fillna(df['SL'].median())"
   ]
  },
  {
   "cell_type": "code",
   "execution_count": 14,
   "id": "e2ae2c51",
   "metadata": {},
   "outputs": [
    {
     "data": {
      "text/plain": [
       "0"
      ]
     },
     "execution_count": 14,
     "metadata": {},
     "output_type": "execute_result"
    }
   ],
   "source": [
    "df['SL'].isna().sum()"
   ]
  },
  {
   "cell_type": "code",
   "execution_count": 15,
   "id": "8255c166",
   "metadata": {},
   "outputs": [],
   "source": [
    "df['SW'] = df['SW'].fillna(df['SW'].median())"
   ]
  },
  {
   "cell_type": "code",
   "execution_count": 16,
   "id": "95b895ff",
   "metadata": {},
   "outputs": [
    {
     "data": {
      "text/plain": [
       "0"
      ]
     },
     "execution_count": 16,
     "metadata": {},
     "output_type": "execute_result"
    }
   ],
   "source": [
    "df['SW'].isna().sum()"
   ]
  },
  {
   "cell_type": "code",
   "execution_count": 17,
   "id": "295e95fe",
   "metadata": {},
   "outputs": [],
   "source": [
    "df['PL'] = df['PL'].fillna(df['PL'].mode()[0])"
   ]
  },
  {
   "cell_type": "code",
   "execution_count": 18,
   "id": "eef9e9c0",
   "metadata": {},
   "outputs": [
    {
     "data": {
      "text/plain": [
       "0"
      ]
     },
     "execution_count": 18,
     "metadata": {},
     "output_type": "execute_result"
    }
   ],
   "source": [
    "df['PL'].isna().sum()"
   ]
  },
  {
   "cell_type": "code",
   "execution_count": 19,
   "id": "26b1f69e",
   "metadata": {},
   "outputs": [
    {
     "data": {
      "text/plain": [
       "SL                0\n",
       "SW                0\n",
       "PL                0\n",
       "PW                0\n",
       "Classification    0\n",
       "dtype: int64"
      ]
     },
     "execution_count": 19,
     "metadata": {},
     "output_type": "execute_result"
    }
   ],
   "source": [
    "df.isnull().sum()"
   ]
  },
  {
   "cell_type": "markdown",
   "id": "90127195",
   "metadata": {},
   "source": [
    "### Check and handle outliers in at least 3 columns in the dataset"
   ]
  },
  {
   "cell_type": "code",
   "execution_count": 20,
   "id": "3755adc3",
   "metadata": {},
   "outputs": [
    {
     "data": {
      "text/plain": [
       "Text(0.5, 1.0, 'Boxplot of SL column')"
      ]
     },
     "execution_count": 20,
     "metadata": {},
     "output_type": "execute_result"
    },
    {
     "data": {
      "image/png": "[encoded data removed]",
      "text/plain": [
       "<Figure size 432x288 with 1 Axes>"
      ]
     },
     "metadata": {
      "needs_background": "light"
     },
     "output_type": "display_data"
    }
   ],
   "source": [
    "plt.boxplot(df['SL'])\n",
    "plt.title('Boxplot of SL column')"
   ]
  },
  {
   "cell_type": "code",
   "execution_count": 21,
   "id": "03d4c8a6",
   "metadata": {},
   "outputs": [
    {
     "data": {
      "text/plain": [
       "Text(0.5, 1.0, 'Boxplot of PL column')"
      ]
     },
     "execution_count": 21,
     "metadata": {},
     "output_type": "execute_result"
    },
    {
     "data": {
      "image/png": "[encoded data removed]",
      "text/plain": [
       "<Figure size 432x288 with 1 Axes>"
      ]
     },
     "metadata": {
      "needs_background": "light"
     },
     "output_type": "display_data"
    }
   ],
   "source": [
    "plt.boxplot(df['PL'])\n",
    "plt.title('Boxplot of PL column')"
   ]
  },
  {
   "cell_type": "code",
   "execution_count": 22,
   "id": "86969a3a",
   "metadata": {},
   "outputs": [
    {
     "data": {
      "text/plain": [
       "Text(0.5, 1.0, 'Boxplot of PW column')"
      ]
     },
     "execution_count": 22,
     "metadata": {},
     "output_type": "execute_result"
    },
    {
     "data": {
      "image/png": "[encoded data removed]",
      "text/plain": [
       "<Figure size 432x288 with 1 Axes>"
      ]
     },
     "metadata": {
      "needs_background": "light"
     },
     "output_type": "display_data"
    }
   ],
   "source": [
    "plt.boxplot(df['PW'])\n",
    "plt.title('Boxplot of PW column')"
   ]
  },
  {
   "cell_type": "code",
   "execution_count": 23,
   "id": "e096032a",
   "metadata": {},
   "outputs": [
    {
     "data": {
      "text/plain": [
       "Text(0.5, 1.0, 'Boxplot of SW column')"
      ]
     },
     "execution_count": 23,
     "metadata": {},
     "output_type": "execute_result"
    },
    {
     "data": {
      "image/png": "[encoded data removed]",
      "text/plain": [
       "<Figure size 432x288 with 1 Axes>"
      ]
     },
     "metadata": {
      "needs_background": "light"
     },
     "output_type": "display_data"
    }
   ],
   "source": [
    "plt.boxplot(df['SW'])\n",
    "plt.title('Boxplot of SW column')"
   ]
  },
  {
   "cell_type": "code",
   "execution_count": 24,
   "id": "986a2b08",
   "metadata": {},
   "outputs": [],
   "source": [
    "Q1 = np.percentile(df['SW'], 25, interpolation='midpoint')\n",
    "Q2= np.percentile(df['SW'], 50,interpolation='midpoint')\n",
    "Q3 = np.percentile(df['SW'], 75,interpolation='midpoint')"
   ]
  },
  {
   "cell_type": "code",
   "execution_count": 25,
   "id": "a6f93105",
   "metadata": {},
   "outputs": [
    {
     "name": "stdout",
     "output_type": "stream",
     "text": [
      "2.8\n",
      "3.0\n",
      "3.25\n"
     ]
    }
   ],
   "source": [
    "print(Q1)\n",
    "print(Q2)\n",
    "print(Q3)"
   ]
  },
  {
   "cell_type": "code",
   "execution_count": 26,
   "id": "34189cdb",
   "metadata": {},
   "outputs": [
    {
     "data": {
      "text/plain": [
       "3.0"
      ]
     },
     "execution_count": 26,
     "metadata": {},
     "output_type": "execute_result"
    }
   ],
   "source": [
    "df['SW'].median()"
   ]
  },
  {
   "cell_type": "code",
   "execution_count": 27,
   "id": "ff1432d0",
   "metadata": {},
   "outputs": [
    {
     "name": "stdout",
     "output_type": "stream",
     "text": [
      "0.4500000000000002\n"
     ]
    }
   ],
   "source": [
    "IQR = Q3 - Q1\n",
    "print(IQR)"
   ]
  },
  {
   "cell_type": "code",
   "execution_count": 28,
   "id": "20e86e70",
   "metadata": {},
   "outputs": [],
   "source": [
    "low_lim = Q1-1.5*IQR\n",
    "up_lim = Q3+1.5*IQR"
   ]
  },
  {
   "cell_type": "code",
   "execution_count": 29,
   "id": "5eff2503",
   "metadata": {},
   "outputs": [
    {
     "name": "stdout",
     "output_type": "stream",
     "text": [
      "2.1249999999999996\n",
      "3.9250000000000003\n"
     ]
    }
   ],
   "source": [
    "print(low_lim)\n",
    "print(up_lim)"
   ]
  },
  {
   "cell_type": "code",
   "execution_count": 30,
   "id": "a56c2bb9",
   "metadata": {},
   "outputs": [],
   "source": [
    "outlier=[]\n",
    "for x in df['SW']:\n",
    "    if((x>up_lim) or (x<low_lim)):\n",
    "        outlier.append(x)"
   ]
  },
  {
   "cell_type": "code",
   "execution_count": 31,
   "id": "35c0929b",
   "metadata": {},
   "outputs": [
    {
     "data": {
      "text/plain": [
       "[4.0, 4.4, 4.1, 4.2, 2.0]"
      ]
     },
     "execution_count": 31,
     "metadata": {},
     "output_type": "execute_result"
    }
   ],
   "source": [
    "outlier"
   ]
  },
  {
   "cell_type": "code",
   "execution_count": 32,
   "id": "de90533f",
   "metadata": {},
   "outputs": [],
   "source": [
    "ind = df['SW']>up_lim"
   ]
  },
  {
   "cell_type": "code",
   "execution_count": 74,
   "id": "28fed273",
   "metadata": {},
   "outputs": [],
   "source": [
    "df1 = df.loc[ind].index"
   ]
  },
  {
   "cell_type": "code",
   "execution_count": 76,
   "id": "00226e0d",
   "metadata": {},
   "outputs": [
    {
     "data": {
      "text/plain": [
       "Int64Index([14, 15, 32, 33], dtype='int64')"
      ]
     },
     "execution_count": 76,
     "metadata": {},
     "output_type": "execute_result"
    }
   ],
   "source": [
    "df1"
   ]
  },
  {
   "cell_type": "markdown",
   "id": "8d5f9110",
   "metadata": {},
   "source": [
    "###  Do min max scaling on the feature set (Take ‘PL’ as target)"
   ]
  },
  {
   "cell_type": "code",
   "execution_count": 80,
   "id": "be2419e7",
   "metadata": {},
   "outputs": [],
   "source": [
    "# split X and Y\n",
    "y =df['PL']\n",
    "X =df.drop('PL', axis = 1)"
   ]
  },
  {
   "cell_type": "code",
   "execution_count": 78,
   "id": "862a0840",
   "metadata": {},
   "outputs": [],
   "source": [
    "from sklearn.preprocessing import MinMaxScaler"
   ]
  },
  {
   "cell_type": "code",
   "execution_count": 36,
   "id": "feca10b2",
   "metadata": {},
   "outputs": [],
   "source": [
    "min_max_scaler = MinMaxScaler(feature_range=(0,1))"
   ]
  },
  {
   "cell_type": "code",
   "execution_count": 81,
   "id": "af0272dd",
   "metadata": {},
   "outputs": [],
   "source": [
    "X = X.drop(['Classification'], axis=1)"
   ]
  },
  {
   "cell_type": "code",
   "execution_count": 82,
   "id": "7eb4e5e3",
   "metadata": {},
   "outputs": [
    {
     "data": {
      "text/html": [
       "<div>\n",
       "<style scoped>\n",
       "    .dataframe tbody tr th:only-of-type {\n",
       "        vertical-align: middle;\n",
       "    }\n",
       "\n",
       "    .dataframe tbody tr th {\n",
       "        vertical-align: top;\n",
       "    }\n",
       "\n",
       "    .dataframe thead th {\n",
       "        text-align: right;\n",
       "    }\n",
       "</style>\n",
       "<table border=\"1\" class=\"dataframe\">\n",
       "  <thead>\n",
       "    <tr style=\"text-align: right;\">\n",
       "      <th></th>\n",
       "      <th>SL</th>\n",
       "      <th>SW</th>\n",
       "      <th>PW</th>\n",
       "    </tr>\n",
       "  </thead>\n",
       "  <tbody>\n",
       "    <tr>\n",
       "      <th>0</th>\n",
       "      <td>5.1</td>\n",
       "      <td>3.5</td>\n",
       "      <td>0.2</td>\n",
       "    </tr>\n",
       "    <tr>\n",
       "      <th>1</th>\n",
       "      <td>4.9</td>\n",
       "      <td>3.0</td>\n",
       "      <td>0.2</td>\n",
       "    </tr>\n",
       "    <tr>\n",
       "      <th>2</th>\n",
       "      <td>5.8</td>\n",
       "      <td>3.2</td>\n",
       "      <td>0.2</td>\n",
       "    </tr>\n",
       "    <tr>\n",
       "      <th>3</th>\n",
       "      <td>4.6</td>\n",
       "      <td>3.1</td>\n",
       "      <td>0.2</td>\n",
       "    </tr>\n",
       "    <tr>\n",
       "      <th>4</th>\n",
       "      <td>5.0</td>\n",
       "      <td>3.6</td>\n",
       "      <td>0.2</td>\n",
       "    </tr>\n",
       "  </tbody>\n",
       "</table>\n",
       "</div>"
      ],
      "text/plain": [
       "    SL   SW   PW\n",
       "0  5.1  3.5  0.2\n",
       "1  4.9  3.0  0.2\n",
       "2  5.8  3.2  0.2\n",
       "3  4.6  3.1  0.2\n",
       "4  5.0  3.6  0.2"
      ]
     },
     "execution_count": 82,
     "metadata": {},
     "output_type": "execute_result"
    }
   ],
   "source": [
    "X.head()"
   ]
  },
  {
   "cell_type": "code",
   "execution_count": 39,
   "id": "2a752778",
   "metadata": {},
   "outputs": [],
   "source": [
    "X = min_max_scaler.fit_transform(X)"
   ]
  },
  {
   "cell_type": "code",
   "execution_count": 40,
   "id": "cc39bab7",
   "metadata": {},
   "outputs": [
    {
     "data": {
      "text/plain": [
       "numpy.ndarray"
      ]
     },
     "execution_count": 40,
     "metadata": {},
     "output_type": "execute_result"
    }
   ],
   "source": [
    "type(X)"
   ]
  },
  {
   "cell_type": "code",
   "execution_count": 41,
   "id": "400e663f",
   "metadata": {},
   "outputs": [
    {
     "data": {
      "text/plain": [
       "array([[0.22222222, 0.625     , 0.04166667],\n",
       "       [0.16666667, 0.41666667, 0.04166667],\n",
       "       [0.41666667, 0.5       , 0.04166667],\n",
       "       [0.08333333, 0.45833333, 0.04166667],\n",
       "       [0.19444444, 0.66666667, 0.04166667],\n",
       "       [0.30555556, 0.79166667, 0.125     ],\n",
       "       [0.08333333, 0.58333333, 0.08333333],\n",
       "       [0.19444444, 0.58333333, 0.04166667],\n",
       "       [0.02777778, 0.375     , 0.04166667],\n",
       "       [0.16666667, 0.45833333, 0.        ],\n",
       "       [0.30555556, 0.41666667, 0.04166667],\n",
       "       [0.13888889, 0.58333333, 0.04166667],\n",
       "       [0.13888889, 0.41666667, 0.        ],\n",
       "       [0.        , 0.41666667, 0.        ],\n",
       "       [0.41666667, 0.83333333, 0.04166667],\n",
       "       [0.38888889, 1.        , 0.125     ],\n",
       "       [0.30555556, 0.79166667, 0.125     ],\n",
       "       [0.22222222, 0.625     , 0.08333333],\n",
       "       [0.38888889, 0.75      , 0.08333333],\n",
       "       [0.22222222, 0.75      , 0.08333333],\n",
       "       [0.30555556, 0.58333333, 0.04166667],\n",
       "       [0.41666667, 0.70833333, 0.125     ],\n",
       "       [0.08333333, 0.66666667, 0.04166667],\n",
       "       [0.22222222, 0.54166667, 0.16666667],\n",
       "       [0.13888889, 0.58333333, 0.04166667],\n",
       "       [0.19444444, 0.41666667, 0.04166667],\n",
       "       [0.19444444, 0.58333333, 0.125     ],\n",
       "       [0.25      , 0.41666667, 0.04166667],\n",
       "       [0.25      , 0.58333333, 0.04166667],\n",
       "       [0.11111111, 0.5       , 0.04166667],\n",
       "       [0.13888889, 0.45833333, 0.04166667],\n",
       "       [0.30555556, 0.58333333, 0.125     ],\n",
       "       [0.25      , 0.875     , 0.        ],\n",
       "       [0.33333333, 0.91666667, 0.04166667],\n",
       "       [0.16666667, 0.45833333, 0.        ],\n",
       "       [0.19444444, 0.5       , 0.04166667],\n",
       "       [0.33333333, 0.625     , 0.04166667],\n",
       "       [0.16666667, 0.45833333, 0.        ],\n",
       "       [0.02777778, 0.41666667, 0.04166667],\n",
       "       [0.41666667, 0.58333333, 0.04166667],\n",
       "       [0.19444444, 0.625     , 0.08333333],\n",
       "       [0.05555556, 0.125     , 0.08333333],\n",
       "       [0.02777778, 0.5       , 0.04166667],\n",
       "       [0.19444444, 0.41666667, 0.20833333],\n",
       "       [0.22222222, 0.75      , 0.125     ],\n",
       "       [0.13888889, 0.41666667, 0.08333333],\n",
       "       [0.22222222, 0.75      , 0.04166667],\n",
       "       [0.08333333, 0.5       , 0.04166667],\n",
       "       [0.27777778, 0.70833333, 0.04166667],\n",
       "       [0.19444444, 0.54166667, 0.04166667],\n",
       "       [0.75      , 0.5       , 0.54166667],\n",
       "       [0.41666667, 0.5       , 0.58333333],\n",
       "       [0.72222222, 0.45833333, 0.58333333],\n",
       "       [0.33333333, 0.125     , 0.5       ],\n",
       "       [0.61111111, 0.33333333, 0.58333333],\n",
       "       [0.38888889, 0.33333333, 0.5       ],\n",
       "       [0.55555556, 0.54166667, 0.625     ],\n",
       "       [0.16666667, 0.16666667, 0.375     ],\n",
       "       [0.63888889, 0.375     , 0.5       ],\n",
       "       [0.25      , 0.29166667, 0.54166667],\n",
       "       [0.19444444, 0.        , 0.375     ],\n",
       "       [0.44444444, 0.41666667, 0.58333333],\n",
       "       [0.47222222, 0.08333333, 0.375     ],\n",
       "       [0.5       , 0.375     , 0.54166667],\n",
       "       [0.36111111, 0.375     , 0.5       ],\n",
       "       [0.66666667, 0.45833333, 0.54166667],\n",
       "       [0.36111111, 0.41666667, 0.58333333],\n",
       "       [0.41666667, 0.29166667, 0.375     ],\n",
       "       [0.52777778, 0.08333333, 0.58333333],\n",
       "       [0.36111111, 0.20833333, 0.41666667],\n",
       "       [0.44444444, 0.5       , 0.70833333],\n",
       "       [0.5       , 0.33333333, 0.5       ],\n",
       "       [0.55555556, 0.41666667, 0.58333333],\n",
       "       [0.5       , 0.33333333, 0.45833333],\n",
       "       [0.58333333, 0.375     , 0.5       ],\n",
       "       [0.63888889, 0.41666667, 0.54166667],\n",
       "       [0.69444444, 0.33333333, 0.54166667],\n",
       "       [0.66666667, 0.41666667, 0.66666667],\n",
       "       [0.47222222, 0.375     , 0.58333333],\n",
       "       [0.38888889, 0.25      , 0.375     ],\n",
       "       [0.33333333, 0.16666667, 0.41666667],\n",
       "       [0.33333333, 0.16666667, 0.375     ],\n",
       "       [0.41666667, 0.29166667, 0.45833333],\n",
       "       [0.47222222, 0.29166667, 0.625     ],\n",
       "       [0.30555556, 0.41666667, 0.58333333],\n",
       "       [0.41666667, 0.58333333, 0.625     ],\n",
       "       [0.66666667, 0.45833333, 0.58333333],\n",
       "       [0.55555556, 0.125     , 0.5       ],\n",
       "       [0.36111111, 0.41666667, 0.5       ],\n",
       "       [0.33333333, 0.20833333, 0.5       ],\n",
       "       [0.33333333, 0.25      , 0.45833333],\n",
       "       [0.5       , 0.41666667, 0.54166667],\n",
       "       [0.41666667, 0.25      , 0.45833333],\n",
       "       [0.19444444, 0.125     , 0.375     ],\n",
       "       [0.36111111, 0.29166667, 0.5       ],\n",
       "       [0.38888889, 0.41666667, 0.45833333],\n",
       "       [0.38888889, 0.375     , 0.5       ],\n",
       "       [0.52777778, 0.375     , 0.5       ],\n",
       "       [0.22222222, 0.41666667, 0.41666667],\n",
       "       [0.38888889, 0.33333333, 0.5       ],\n",
       "       [0.55555556, 0.54166667, 1.        ],\n",
       "       [0.41666667, 0.29166667, 0.75      ],\n",
       "       [0.77777778, 0.41666667, 0.83333333],\n",
       "       [0.55555556, 0.375     , 0.70833333],\n",
       "       [0.61111111, 0.41666667, 0.875     ],\n",
       "       [0.91666667, 0.41666667, 0.83333333],\n",
       "       [0.41666667, 0.20833333, 0.66666667],\n",
       "       [0.83333333, 0.375     , 0.70833333],\n",
       "       [0.66666667, 0.20833333, 0.70833333],\n",
       "       [0.80555556, 0.66666667, 1.        ],\n",
       "       [0.61111111, 0.5       , 0.79166667],\n",
       "       [0.58333333, 0.29166667, 0.75      ],\n",
       "       [0.69444444, 0.41666667, 0.83333333],\n",
       "       [0.38888889, 0.20833333, 0.79166667],\n",
       "       [0.41666667, 0.33333333, 0.95833333],\n",
       "       [0.58333333, 0.5       , 0.91666667],\n",
       "       [0.61111111, 0.41666667, 0.70833333],\n",
       "       [0.94444444, 0.75      , 0.875     ],\n",
       "       [0.94444444, 0.25      , 0.91666667],\n",
       "       [0.47222222, 0.08333333, 0.58333333],\n",
       "       [0.72222222, 0.5       , 0.91666667],\n",
       "       [0.36111111, 0.33333333, 0.79166667],\n",
       "       [0.94444444, 0.33333333, 0.79166667],\n",
       "       [0.55555556, 0.29166667, 0.70833333],\n",
       "       [0.66666667, 0.41666667, 0.83333333],\n",
       "       [0.80555556, 0.5       , 0.70833333],\n",
       "       [0.52777778, 0.33333333, 0.70833333],\n",
       "       [0.5       , 0.41666667, 0.70833333],\n",
       "       [0.58333333, 0.33333333, 0.83333333],\n",
       "       [0.80555556, 0.41666667, 0.625     ],\n",
       "       [0.86111111, 0.33333333, 0.75      ],\n",
       "       [1.        , 0.75      , 0.79166667],\n",
       "       [0.58333333, 0.33333333, 0.875     ],\n",
       "       [0.55555556, 0.33333333, 0.58333333],\n",
       "       [0.5       , 0.25      , 0.54166667],\n",
       "       [0.94444444, 0.41666667, 0.91666667],\n",
       "       [0.55555556, 0.58333333, 0.95833333],\n",
       "       [0.58333333, 0.45833333, 0.70833333],\n",
       "       [0.47222222, 0.41666667, 0.70833333],\n",
       "       [0.72222222, 0.45833333, 0.83333333],\n",
       "       [0.66666667, 0.45833333, 0.95833333],\n",
       "       [0.41666667, 0.45833333, 0.91666667],\n",
       "       [0.41666667, 0.29166667, 0.75      ],\n",
       "       [0.69444444, 0.5       , 0.91666667],\n",
       "       [0.66666667, 0.54166667, 1.        ],\n",
       "       [0.66666667, 0.41666667, 0.91666667],\n",
       "       [0.55555556, 0.20833333, 0.75      ],\n",
       "       [0.61111111, 0.41666667, 0.79166667],\n",
       "       [0.52777778, 0.58333333, 0.91666667],\n",
       "       [0.44444444, 0.41666667, 0.70833333]])"
      ]
     },
     "execution_count": 41,
     "metadata": {},
     "output_type": "execute_result"
    }
   ],
   "source": [
    "X"
   ]
  },
  {
   "cell_type": "code",
   "execution_count": 45,
   "id": "cb4b56ba",
   "metadata": {},
   "outputs": [
    {
     "data": {
      "text/html": [
       "<div>\n",
       "<style scoped>\n",
       "    .dataframe tbody tr th:only-of-type {\n",
       "        vertical-align: middle;\n",
       "    }\n",
       "\n",
       "    .dataframe tbody tr th {\n",
       "        vertical-align: top;\n",
       "    }\n",
       "\n",
       "    .dataframe thead th {\n",
       "        text-align: right;\n",
       "    }\n",
       "</style>\n",
       "<table border=\"1\" class=\"dataframe\">\n",
       "  <thead>\n",
       "    <tr style=\"text-align: right;\">\n",
       "      <th></th>\n",
       "      <th>Classification</th>\n",
       "    </tr>\n",
       "  </thead>\n",
       "  <tbody>\n",
       "    <tr>\n",
       "      <th>0</th>\n",
       "      <td>0.222222</td>\n",
       "    </tr>\n",
       "    <tr>\n",
       "      <th>1</th>\n",
       "      <td>0.166667</td>\n",
       "    </tr>\n",
       "    <tr>\n",
       "      <th>2</th>\n",
       "      <td>0.416667</td>\n",
       "    </tr>\n",
       "    <tr>\n",
       "      <th>3</th>\n",
       "      <td>0.083333</td>\n",
       "    </tr>\n",
       "    <tr>\n",
       "      <th>4</th>\n",
       "      <td>0.194444</td>\n",
       "    </tr>\n",
       "  </tbody>\n",
       "</table>\n",
       "</div>"
      ],
      "text/plain": [
       "   Classification\n",
       "0        0.222222\n",
       "1        0.166667\n",
       "2        0.416667\n",
       "3        0.083333\n",
       "4        0.194444"
      ]
     },
     "execution_count": 45,
     "metadata": {},
     "output_type": "execute_result"
    }
   ],
   "source": [
    "X = pd.DataFrame(X,columns =['Classification'])\n",
    "X.head()"
   ]
  },
  {
   "cell_type": "code",
   "execution_count": 68,
   "id": "5a274b29",
   "metadata": {},
   "outputs": [
    {
     "data": {
      "text/html": [
       "<div>\n",
       "<style scoped>\n",
       "    .dataframe tbody tr th:only-of-type {\n",
       "        vertical-align: middle;\n",
       "    }\n",
       "\n",
       "    .dataframe tbody tr th {\n",
       "        vertical-align: top;\n",
       "    }\n",
       "\n",
       "    .dataframe thead th {\n",
       "        text-align: right;\n",
       "    }\n",
       "</style>\n",
       "<table border=\"1\" class=\"dataframe\">\n",
       "  <thead>\n",
       "    <tr style=\"text-align: right;\">\n",
       "      <th></th>\n",
       "      <th>Classification</th>\n",
       "    </tr>\n",
       "  </thead>\n",
       "  <tbody>\n",
       "    <tr>\n",
       "      <th>count</th>\n",
       "      <td>150.000000</td>\n",
       "    </tr>\n",
       "    <tr>\n",
       "      <th>mean</th>\n",
       "      <td>0.431481</td>\n",
       "    </tr>\n",
       "    <tr>\n",
       "      <th>std</th>\n",
       "      <td>0.224602</td>\n",
       "    </tr>\n",
       "    <tr>\n",
       "      <th>min</th>\n",
       "      <td>0.000000</td>\n",
       "    </tr>\n",
       "    <tr>\n",
       "      <th>25%</th>\n",
       "      <td>0.250000</td>\n",
       "    </tr>\n",
       "    <tr>\n",
       "      <th>50%</th>\n",
       "      <td>0.416667</td>\n",
       "    </tr>\n",
       "    <tr>\n",
       "      <th>75%</th>\n",
       "      <td>0.583333</td>\n",
       "    </tr>\n",
       "    <tr>\n",
       "      <th>max</th>\n",
       "      <td>1.000000</td>\n",
       "    </tr>\n",
       "  </tbody>\n",
       "</table>\n",
       "</div>"
      ],
      "text/plain": [
       "       Classification\n",
       "count      150.000000\n",
       "mean         0.431481\n",
       "std          0.224602\n",
       "min          0.000000\n",
       "25%          0.250000\n",
       "50%          0.416667\n",
       "75%          0.583333\n",
       "max          1.000000"
      ]
     },
     "execution_count": 68,
     "metadata": {},
     "output_type": "execute_result"
    }
   ],
   "source": [
    "X.describe()"
   ]
  },
  {
   "cell_type": "code",
   "execution_count": 70,
   "id": "a15f56bd",
   "metadata": {},
   "outputs": [
    {
     "data": {
      "image/png": "[encoded data removed]",
      "text/plain": [
       "<Figure size 720x648 with 2 Axes>"
      ]
     },
     "metadata": {
      "needs_background": "light"
     },
     "output_type": "display_data"
    }
   ],
   "source": [
    "# Corelation Metrix\n",
    "corrmatrix = df.corr()\n",
    "plt.subplots(figsize=(10,9))\n",
    "sns.heatmap(corrmatrix, annot=True, cmap='YlGnBu');"
   ]
  },
  {
   "cell_type": "code",
   "execution_count": null,
   "id": "546b146c",
   "metadata": {},
   "outputs": [],
   "source": []
  }
 ],
 "metadata": {
  "kernelspec": {
   "display_name": "Python 3 (ipykernel)",
   "language": "python",
   "name": "python3"
  },
  "language_info": {
   "codemirror_mode": {
    "name": "ipython",
    "version": 3
   },
   "file_extension": ".py",
   "mimetype": "text/x-python",
   "name": "python",
   "nbconvert_exporter": "python",
   "pygments_lexer": "ipython3",
   "version": "3.9.12"
  }
 },
 "nbformat": 4,
 "nbformat_minor": 5
}
